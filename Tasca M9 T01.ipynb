{
 "cells": [
  {
   "cell_type": "markdown",
   "id": "03272dc2",
   "metadata": {},
   "source": [
    "### - Exercici 1\n",
    "Agafa un text en anglès que vulguis, i calcula'n la freqüència de les paraules."
   ]
  },
  {
   "cell_type": "code",
   "execution_count": 23,
   "id": "0df44a79",
   "metadata": {},
   "outputs": [
    {
     "name": "stdout",
     "output_type": "stream",
     "text": [
      "Requirement already satisfied: nltk in ./anaconda3/lib/python3.9/site-packages (3.7)\r\n",
      "Requirement already satisfied: joblib in ./anaconda3/lib/python3.9/site-packages (from nltk) (1.1.0)\r\n",
      "Requirement already satisfied: click in ./anaconda3/lib/python3.9/site-packages (from nltk) (8.0.4)\r\n",
      "Requirement already satisfied: regex>=2021.8.3 in ./anaconda3/lib/python3.9/site-packages (from nltk) (2022.3.15)\r\n",
      "Requirement already satisfied: tqdm in ./anaconda3/lib/python3.9/site-packages (from nltk) (4.64.0)\r\n"
     ]
    }
   ],
   "source": [
    "!pip install nltk\n",
    "\n",
    "import nltk\n",
    "from nltk.tokenize import word_tokenize\n",
    "from nltk.tokenize import sent_tokenize\n",
    "\n",
    "import pandas as pd\n",
    "import math\n",
    "import matplotlib.pyplot as plt\n",
    "%matplotlib inline\n",
    "import numpy as np\n",
    "import seaborn as sns\n",
    "import warnings\n",
    "warnings.filterwarnings('ignore')\n",
    "\n"
   ]
  },
  {
   "cell_type": "code",
   "execution_count": 10,
   "id": "cce38321",
   "metadata": {},
   "outputs": [],
   "source": [
    "from nltk.tokenize import sent_tokenize"
   ]
  },
  {
   "cell_type": "code",
   "execution_count": 13,
   "id": "5c114a92",
   "metadata": {},
   "outputs": [],
   "source": [
    "text=\"\"\"Happiness is something that people seek to find, yet what defines happiness can vary from one person to the next. Typically, happiness is an emotional state characterized by feelings of joy, satisfaction, contentment, and fulfillment. While happiness has many different definitions, it is often described as involving positive emotions and life satisfaction. \n",
    "When most people talk about the true meaning of happiness, they might be talking about how they feel in the present moment or referring to a more general sense of how they feel about life overall.\n",
    "Because happiness tends to be such a broadly defined term, psychologists and other social scientists typically use the term 'subjective well-being' when they talk about this emotional state. Just as it sounds, subjective well-being tends to focus on an individual's overall personal feelings about their life in the present.  \n",
    "Two key components of happiness (or subjective well-being) are:The balance of emotions: Everyone experiences both positive and negative emotions, feelings, and moods. Happiness is generally linked to experiencing more positive feelings than negative ones.\n",
    "Life satisfaction: This relates to how satisfied you feel with different areas of your life including your relationships, work, achievements, and other things that you consider important.\n",
    "Another definition of happiness comes from the ancient philosopher Aristotle, who suggested that happiness is the one human desire, and all other human desires exist as a way to obtain happiness. He believed that there were four levels of happiness: happiness from immediate gratification, from comparison and achievement, from making positive contributions, and from achieving fulfillment. \n",
    "Happiness, Aristotle suggested, could be achieved through the golden mean, which involves finding a balance between deficiency and excess.1\n",
    "What Is Arrival Fallacy? Signs of Happiness.While perceptions of happiness may be different from one person to the next, there are some key signs that psychologists look for when measuring and assessing happiness.\n",
    "Some key signs of happiness include:Feeling like you are living the life you wanted. Going with the flow and a willingness to take life as it comes. Feeling that the conditions of your life are good. Enjoying positive, healthy relationships with other people. Feeling that you have accomplished (or will accomplish) what you want in life. Feeling satisfied with your life. Feeling positive more than negative. Being open to new ideas and experiences Practicing self-care and treating yourself with kindness and compassion Experiencing gratitude Feeling that you are living life with a sense of meaning and purpose Wanting to share your happiness and joy with others One important thing to remember is that happiness isn't a state of constant euphoria. Instead, happiness is an overall sense of experiencing more positive emotions than negative ones.Happy people still feel the whole range of human emotions—anger, frustrastion, boredom, loneliness, and even sadness—from time to time. But even when faced with discomfort, they have an underlying sense of optimism that things will get better, that they can deal with what is happening, and that they will be able to feel happy again.\"\"\"\n"
   ]
  },
  {
   "cell_type": "markdown",
   "id": "70d3c02e",
   "metadata": {},
   "source": [
    "### Tokenización de oraciones\n",
    "El tokenizador de oraciones divide el párrafo de texto en oraciones."
   ]
  },
  {
   "cell_type": "code",
   "execution_count": 24,
   "id": "75eae9bf",
   "metadata": {},
   "outputs": [
    {
     "name": "stdout",
     "output_type": "stream",
     "text": [
      "['Happiness is something that people seek to find, yet what defines happiness can vary from one person to the next.', 'Typically, happiness is an emotional state characterized by feelings of joy, satisfaction, contentment, and fulfillment.', 'While happiness has many different definitions, it is often described as involving positive emotions and life satisfaction.', 'When most people talk about the true meaning of happiness, they might be talking about how they feel in the present moment or referring to a more general sense of how they feel about life overall.', \"Because happiness tends to be such a broadly defined term, psychologists and other social scientists typically use the term 'subjective well-being' when they talk about this emotional state.\", \"Just as it sounds, subjective well-being tends to focus on an individual's overall personal feelings about their life in the present.\", 'Two key components of happiness (or subjective well-being) are:The balance of emotions: Everyone experiences both positive and negative emotions, feelings, and moods.', 'Happiness is generally linked to experiencing more positive feelings than negative ones.', 'Life satisfaction: This relates to how satisfied you feel with different areas of your life including your relationships, work, achievements, and other things that you consider important.', 'Another definition of happiness comes from the ancient philosopher Aristotle, who suggested that happiness is the one human desire, and all other human desires exist as a way to obtain happiness.', 'He believed that there were four levels of happiness: happiness from immediate gratification, from comparison and achievement, from making positive contributions, and from achieving fulfillment.', 'Happiness, Aristotle suggested, could be achieved through the golden mean, which involves finding a balance between deficiency and excess.1\\nWhat Is Arrival Fallacy?', 'Signs of Happiness.While perceptions of happiness may be different from one person to the next, there are some key signs that psychologists look for when measuring and assessing happiness.', 'Some key signs of happiness include:Feeling like you are living the life you wanted.', 'Going with the flow and a willingness to take life as it comes.', 'Feeling that the conditions of your life are good.', 'Enjoying positive, healthy relationships with other people.', 'Feeling that you have accomplished (or will accomplish) what you want in life.', 'Feeling satisfied with your life.', 'Feeling positive more than negative.', \"Being open to new ideas and experiences Practicing self-care and treating yourself with kindness and compassion Experiencing gratitude Feeling that you are living life with a sense of meaning and purpose Wanting to share your happiness and joy with others One important thing to remember is that happiness isn't a state of constant euphoria.\", 'Instead, happiness is an overall sense of experiencing more positive emotions than negative ones.Happy people still feel the whole range of human emotions—anger, frustrastion, boredom, loneliness, and even sadness—from time to time.', 'But even when faced with discomfort, they have an underlying sense of optimism that things will get better, that they can deal with what is happening, and that they will be able to feel happy again.']\n"
     ]
    },
    {
     "name": "stderr",
     "output_type": "stream",
     "text": [
      "[nltk_data] Downloading package punkt to /Users/natalia/nltk_data...\n",
      "[nltk_data]   Package punkt is already up-to-date!\n"
     ]
    }
   ],
   "source": [
    "nltk.download('punkt')\n",
    "tokenized_text=sent_tokenize(text)\n",
    "print(tokenized_text)"
   ]
  },
  {
   "cell_type": "markdown",
   "id": "6f7d3526",
   "metadata": {},
   "source": [
    "### Tokenización de palabras\n",
    "El tokenizador de palabras divide el párrafo de texto en palabras."
   ]
  },
  {
   "cell_type": "code",
   "execution_count": 16,
   "id": "24e6ab90",
   "metadata": {},
   "outputs": [
    {
     "name": "stdout",
     "output_type": "stream",
     "text": [
      "['Happiness', 'is', 'something', 'that', 'people', 'seek', 'to', 'find', ',', 'yet', 'what', 'defines', 'happiness', 'can', 'vary', 'from', 'one', 'person', 'to', 'the', 'next', '.', 'Typically', ',', 'happiness', 'is', 'an', 'emotional', 'state', 'characterized', 'by', 'feelings', 'of', 'joy', ',', 'satisfaction', ',', 'contentment', ',', 'and', 'fulfillment', '.', 'While', 'happiness', 'has', 'many', 'different', 'definitions', ',', 'it', 'is', 'often', 'described', 'as', 'involving', 'positive', 'emotions', 'and', 'life', 'satisfaction', '.', 'When', 'most', 'people', 'talk', 'about', 'the', 'true', 'meaning', 'of', 'happiness', ',', 'they', 'might', 'be', 'talking', 'about', 'how', 'they', 'feel', 'in', 'the', 'present', 'moment', 'or', 'referring', 'to', 'a', 'more', 'general', 'sense', 'of', 'how', 'they', 'feel', 'about', 'life', 'overall', '.', 'Because', 'happiness', 'tends', 'to', 'be', 'such', 'a', 'broadly', 'defined', 'term', ',', 'psychologists', 'and', 'other', 'social', 'scientists', 'typically', 'use', 'the', 'term', \"'subjective\", 'well-being', \"'\", 'when', 'they', 'talk', 'about', 'this', 'emotional', 'state', '.', 'Just', 'as', 'it', 'sounds', ',', 'subjective', 'well-being', 'tends', 'to', 'focus', 'on', 'an', 'individual', \"'s\", 'overall', 'personal', 'feelings', 'about', 'their', 'life', 'in', 'the', 'present', '.', 'Two', 'key', 'components', 'of', 'happiness', '(', 'or', 'subjective', 'well-being', ')', 'are', ':', 'The', 'balance', 'of', 'emotions', ':', 'Everyone', 'experiences', 'both', 'positive', 'and', 'negative', 'emotions', ',', 'feelings', ',', 'and', 'moods', '.', 'Happiness', 'is', 'generally', 'linked', 'to', 'experiencing', 'more', 'positive', 'feelings', 'than', 'negative', 'ones', '.', 'Life', 'satisfaction', ':', 'This', 'relates', 'to', 'how', 'satisfied', 'you', 'feel', 'with', 'different', 'areas', 'of', 'your', 'life', 'including', 'your', 'relationships', ',', 'work', ',', 'achievements', ',', 'and', 'other', 'things', 'that', 'you', 'consider', 'important', '.', 'Another', 'definition', 'of', 'happiness', 'comes', 'from', 'the', 'ancient', 'philosopher', 'Aristotle', ',', 'who', 'suggested', 'that', 'happiness', 'is', 'the', 'one', 'human', 'desire', ',', 'and', 'all', 'other', 'human', 'desires', 'exist', 'as', 'a', 'way', 'to', 'obtain', 'happiness', '.', 'He', 'believed', 'that', 'there', 'were', 'four', 'levels', 'of', 'happiness', ':', 'happiness', 'from', 'immediate', 'gratification', ',', 'from', 'comparison', 'and', 'achievement', ',', 'from', 'making', 'positive', 'contributions', ',', 'and', 'from', 'achieving', 'fulfillment', '.', 'Happiness', ',', 'Aristotle', 'suggested', ',', 'could', 'be', 'achieved', 'through', 'the', 'golden', 'mean', ',', 'which', 'involves', 'finding', 'a', 'balance', 'between', 'deficiency', 'and', 'excess.1', 'What', 'Is', 'Arrival', 'Fallacy', '?', 'Signs', 'of', 'Happiness.While', 'perceptions', 'of', 'happiness', 'may', 'be', 'different', 'from', 'one', 'person', 'to', 'the', 'next', ',', 'there', 'are', 'some', 'key', 'signs', 'that', 'psychologists', 'look', 'for', 'when', 'measuring', 'and', 'assessing', 'happiness', '.', 'Some', 'key', 'signs', 'of', 'happiness', 'include', ':', 'Feeling', 'like', 'you', 'are', 'living', 'the', 'life', 'you', 'wanted', '.', 'Going', 'with', 'the', 'flow', 'and', 'a', 'willingness', 'to', 'take', 'life', 'as', 'it', 'comes', '.', 'Feeling', 'that', 'the', 'conditions', 'of', 'your', 'life', 'are', 'good', '.', 'Enjoying', 'positive', ',', 'healthy', 'relationships', 'with', 'other', 'people', '.', 'Feeling', 'that', 'you', 'have', 'accomplished', '(', 'or', 'will', 'accomplish', ')', 'what', 'you', 'want', 'in', 'life', '.', 'Feeling', 'satisfied', 'with', 'your', 'life', '.', 'Feeling', 'positive', 'more', 'than', 'negative', '.', 'Being', 'open', 'to', 'new', 'ideas', 'and', 'experiences', 'Practicing', 'self-care', 'and', 'treating', 'yourself', 'with', 'kindness', 'and', 'compassion', 'Experiencing', 'gratitude', 'Feeling', 'that', 'you', 'are', 'living', 'life', 'with', 'a', 'sense', 'of', 'meaning', 'and', 'purpose', 'Wanting', 'to', 'share', 'your', 'happiness', 'and', 'joy', 'with', 'others', 'One', 'important', 'thing', 'to', 'remember', 'is', 'that', 'happiness', 'is', \"n't\", 'a', 'state', 'of', 'constant', 'euphoria', '.', 'Instead', ',', 'happiness', 'is', 'an', 'overall', 'sense', 'of', 'experiencing', 'more', 'positive', 'emotions', 'than', 'negative', 'ones.Happy', 'people', 'still', 'feel', 'the', 'whole', 'range', 'of', 'human', 'emotions—anger', ',', 'frustrastion', ',', 'boredom', ',', 'loneliness', ',', 'and', 'even', 'sadness—from', 'time', 'to', 'time', '.', 'But', 'even', 'when', 'faced', 'with', 'discomfort', ',', 'they', 'have', 'an', 'underlying', 'sense', 'of', 'optimism', 'that', 'things', 'will', 'get', 'better', ',', 'that', 'they', 'can', 'deal', 'with', 'what', 'is', 'happening', ',', 'and', 'that', 'they', 'will', 'be', 'able', 'to', 'feel', 'happy', 'again', '.']\n"
     ]
    }
   ],
   "source": [
    "from nltk.tokenize import word_tokenize\n",
    "=word_tokenize(text)\n",
    "print(tokenized_word)\n"
   ]
  },
  {
   "cell_type": "markdown",
   "id": "1b652afa",
   "metadata": {},
   "source": [
    "### Distribución de frecuencias"
   ]
  },
  {
   "cell_type": "code",
   "execution_count": 17,
   "id": "1c338633",
   "metadata": {},
   "outputs": [
    {
     "name": "stdout",
     "output_type": "stream",
     "text": [
      "<FreqDist with 248 samples and 563 outcomes>\n"
     ]
    }
   ],
   "source": [
    "from nltk.probability import FreqDist\n",
    "fdist = FreqDist(tokenized_word)\n",
    "print(fdist)\n"
   ]
  },
  {
   "cell_type": "code",
   "execution_count": 19,
   "id": "a5a186b9",
   "metadata": {},
   "outputs": [
    {
     "data": {
      "text/plain": [
       "[(',', 32),\n",
       " ('.', 22),\n",
       " ('and', 19),\n",
       " ('happiness', 17),\n",
       " ('of', 17),\n",
       " ('to', 15),\n",
       " ('the', 13),\n",
       " ('that', 12),\n",
       " ('life', 10),\n",
       " ('is', 9)]"
      ]
     },
     "execution_count": 19,
     "metadata": {},
     "output_type": "execute_result"
    }
   ],
   "source": [
    "#Palabras que más se repiden, en orden descendiente.\n",
    "fdist.most_common(10)\n"
   ]
  },
  {
   "cell_type": "code",
   "execution_count": 20,
   "id": "be1e4fc3",
   "metadata": {},
   "outputs": [
    {
     "data": {
      "image/png": "[encoded data removed]",
      "text/plain": [
       "<Figure size 432x288 with 1 Axes>"
      ]
     },
     "metadata": {
      "needs_background": "light"
     },
     "output_type": "display_data"
    }
   ],
   "source": [
    "# Frequency Distribution Plot\n",
    "import matplotlib.pyplot as plt\n",
    "fdist.plot(30,cumulative=False)\n",
    "plt.show()\n"
   ]
  },
  {
   "cell_type": "markdown",
   "id": "1e1e0e0b",
   "metadata": {},
   "source": [
    "### - Exercici 2\n",
    "Treu les stopwords i realitza stemming al teu conjunt de dades."
   ]
  },
  {
   "cell_type": "code",
   "execution_count": 30,
   "id": "96bc9f9f",
   "metadata": {},
   "outputs": [
    {
     "name": "stderr",
     "output_type": "stream",
     "text": [
      "[nltk_data] Downloading package stopwords to\n",
      "[nltk_data]     /Users/natalia/nltk_data...\n",
      "[nltk_data]   Unzipping corpora/stopwords.zip.\n"
     ]
    },
    {
     "data": {
      "text/plain": [
       "True"
      ]
     },
     "execution_count": 30,
     "metadata": {},
     "output_type": "execute_result"
    }
   ],
   "source": [
    "nltk.download('stopwords')"
   ]
  },
  {
   "cell_type": "markdown",
   "id": "18c10110",
   "metadata": {},
   "source": [
    "###### Para eliminar palabras vacías, debe crear una lista de palabras vacías y filtrar su lista de tokens de estas palabras."
   ]
  },
  {
   "cell_type": "code",
   "execution_count": 31,
   "id": "20b5992b",
   "metadata": {},
   "outputs": [
    {
     "name": "stdout",
     "output_type": "stream",
     "text": [
      "{'will', 'once', 'between', 'same', 'there', 'any', 'no', \"mustn't\", 'her', \"didn't\", 'theirs', 'herself', 'our', 'which', 'they', 'themselves', 'you', 'out', 've', 'd', 'who', 'are', 'why', 'wasn', 'doing', 'ourselves', 'him', 'does', 'ain', 'yourself', 'that', \"couldn't\", 'did', 'to', 'yourselves', 'into', 'had', 'when', \"you're\", 'where', 't', 'ma', 'further', 'again', 'or', 'above', \"she's\", 'ours', \"doesn't\", 'isn', 'how', 'it', 'hasn', 'very', 'yours', 'down', 'if', 'in', 'your', 'under', 'against', 'have', \"wouldn't\", 'we', 'being', 'were', 'their', 'i', 'while', 'below', 'those', 'own', \"don't\", 'on', 'doesn', 're', 'won', 'was', 'didn', 'of', 'more', 'whom', \"that'll\", 'all', 'haven', \"wasn't\", 'through', 'because', 'be', 'some', 'at', 'mightn', 'himself', 'shan', 'shouldn', \"needn't\", 'about', 'these', 's', \"haven't\", 'she', 'couldn', 'me', 'and', \"mightn't\", 'off', 'been', \"it's\", 'hers', \"you'd\", 'but', 'such', \"weren't\", 'most', 'mustn', 'aren', 'wouldn', \"shouldn't\", 'other', 'myself', 'then', 'a', 'now', 'my', 'before', 'for', \"aren't\", 'hadn', \"you'll\", 'this', 'than', 'y', \"should've\", 'few', 'from', \"isn't\", 'each', 'am', 'don', 'just', 'll', 'nor', \"you've\", 'needn', \"shan't\", 'his', 'so', 'm', 'itself', 'an', 'do', 'over', 'too', 'during', 'them', 'has', 'as', \"hasn't\", 'o', 'both', 'not', 'should', 'until', 'the', 'can', \"hadn't\", 'its', 'weren', 'he', 'is', 'here', 'what', \"won't\", 'after', 'by', 'only', 'having', 'up', 'with'}\n"
     ]
    }
   ],
   "source": [
    "from nltk.corpus import stopwords\n",
    "stop_words=set(stopwords.words(\"english\")) \n",
    "print(stop_words)\n"
   ]
  },
  {
   "cell_type": "code",
   "execution_count": 35,
   "id": "b905cd4a",
   "metadata": {},
   "outputs": [
    {
     "name": "stdout",
     "output_type": "stream",
     "text": [
      "Tokenized Sentence: ['Happiness', 'is', 'something', 'that', 'people', 'seek', 'to', 'find', ',', 'yet', 'what', 'defines', 'happiness', 'can', 'vary', 'from', 'one', 'person', 'to', 'the', 'next', '.', 'Typically', ',', 'happiness', 'is', 'an', 'emotional', 'state', 'characterized', 'by', 'feelings', 'of', 'joy', ',', 'satisfaction', ',', 'contentment', ',', 'and', 'fulfillment', '.', 'While', 'happiness', 'has', 'many', 'different', 'definitions', ',', 'it', 'is', 'often', 'described', 'as', 'involving', 'positive', 'emotions', 'and', 'life', 'satisfaction', '.', 'When', 'most', 'people', 'talk', 'about', 'the', 'true', 'meaning', 'of', 'happiness', ',', 'they', 'might', 'be', 'talking', 'about', 'how', 'they', 'feel', 'in', 'the', 'present', 'moment', 'or', 'referring', 'to', 'a', 'more', 'general', 'sense', 'of', 'how', 'they', 'feel', 'about', 'life', 'overall', '.', 'Because', 'happiness', 'tends', 'to', 'be', 'such', 'a', 'broadly', 'defined', 'term', ',', 'psychologists', 'and', 'other', 'social', 'scientists', 'typically', 'use', 'the', 'term', \"'subjective\", 'well-being', \"'\", 'when', 'they', 'talk', 'about', 'this', 'emotional', 'state', '.', 'Just', 'as', 'it', 'sounds', ',', 'subjective', 'well-being', 'tends', 'to', 'focus', 'on', 'an', 'individual', \"'s\", 'overall', 'personal', 'feelings', 'about', 'their', 'life', 'in', 'the', 'present', '.', 'Two', 'key', 'components', 'of', 'happiness', '(', 'or', 'subjective', 'well-being', ')', 'are', ':', 'The', 'balance', 'of', 'emotions', ':', 'Everyone', 'experiences', 'both', 'positive', 'and', 'negative', 'emotions', ',', 'feelings', ',', 'and', 'moods', '.', 'Happiness', 'is', 'generally', 'linked', 'to', 'experiencing', 'more', 'positive', 'feelings', 'than', 'negative', 'ones', '.', 'Life', 'satisfaction', ':', 'This', 'relates', 'to', 'how', 'satisfied', 'you', 'feel', 'with', 'different', 'areas', 'of', 'your', 'life', 'including', 'your', 'relationships', ',', 'work', ',', 'achievements', ',', 'and', 'other', 'things', 'that', 'you', 'consider', 'important', '.', 'Another', 'definition', 'of', 'happiness', 'comes', 'from', 'the', 'ancient', 'philosopher', 'Aristotle', ',', 'who', 'suggested', 'that', 'happiness', 'is', 'the', 'one', 'human', 'desire', ',', 'and', 'all', 'other', 'human', 'desires', 'exist', 'as', 'a', 'way', 'to', 'obtain', 'happiness', '.', 'He', 'believed', 'that', 'there', 'were', 'four', 'levels', 'of', 'happiness', ':', 'happiness', 'from', 'immediate', 'gratification', ',', 'from', 'comparison', 'and', 'achievement', ',', 'from', 'making', 'positive', 'contributions', ',', 'and', 'from', 'achieving', 'fulfillment', '.', 'Happiness', ',', 'Aristotle', 'suggested', ',', 'could', 'be', 'achieved', 'through', 'the', 'golden', 'mean', ',', 'which', 'involves', 'finding', 'a', 'balance', 'between', 'deficiency', 'and', 'excess.1', 'What', 'Is', 'Arrival', 'Fallacy', '?', 'Signs', 'of', 'Happiness.While', 'perceptions', 'of', 'happiness', 'may', 'be', 'different', 'from', 'one', 'person', 'to', 'the', 'next', ',', 'there', 'are', 'some', 'key', 'signs', 'that', 'psychologists', 'look', 'for', 'when', 'measuring', 'and', 'assessing', 'happiness', '.', 'Some', 'key', 'signs', 'of', 'happiness', 'include', ':', 'Feeling', 'like', 'you', 'are', 'living', 'the', 'life', 'you', 'wanted', '.', 'Going', 'with', 'the', 'flow', 'and', 'a', 'willingness', 'to', 'take', 'life', 'as', 'it', 'comes', '.', 'Feeling', 'that', 'the', 'conditions', 'of', 'your', 'life', 'are', 'good', '.', 'Enjoying', 'positive', ',', 'healthy', 'relationships', 'with', 'other', 'people', '.', 'Feeling', 'that', 'you', 'have', 'accomplished', '(', 'or', 'will', 'accomplish', ')', 'what', 'you', 'want', 'in', 'life', '.', 'Feeling', 'satisfied', 'with', 'your', 'life', '.', 'Feeling', 'positive', 'more', 'than', 'negative', '.', 'Being', 'open', 'to', 'new', 'ideas', 'and', 'experiences', 'Practicing', 'self-care', 'and', 'treating', 'yourself', 'with', 'kindness', 'and', 'compassion', 'Experiencing', 'gratitude', 'Feeling', 'that', 'you', 'are', 'living', 'life', 'with', 'a', 'sense', 'of', 'meaning', 'and', 'purpose', 'Wanting', 'to', 'share', 'your', 'happiness', 'and', 'joy', 'with', 'others', 'One', 'important', 'thing', 'to', 'remember', 'is', 'that', 'happiness', 'is', \"n't\", 'a', 'state', 'of', 'constant', 'euphoria', '.', 'Instead', ',', 'happiness', 'is', 'an', 'overall', 'sense', 'of', 'experiencing', 'more', 'positive', 'emotions', 'than', 'negative', 'ones.Happy', 'people', 'still', 'feel', 'the', 'whole', 'range', 'of', 'human', 'emotions—anger', ',', 'frustrastion', ',', 'boredom', ',', 'loneliness', ',', 'and', 'even', 'sadness—from', 'time', 'to', 'time', '.', 'But', 'even', 'when', 'faced', 'with', 'discomfort', ',', 'they', 'have', 'an', 'underlying', 'sense', 'of', 'optimism', 'that', 'things', 'will', 'get', 'better', ',', 'that', 'they', 'can', 'deal', 'with', 'what', 'is', 'happening', ',', 'and', 'that', 'they', 'will', 'be', 'able', 'to', 'feel', 'happy', 'again', '.']\n",
      "Filterd Sentence: ['Happiness', 'something', 'people', 'seek', 'find', ',', 'yet', 'defines', 'happiness', 'vary', 'one', 'person', 'next', '.', 'Typically', ',', 'happiness', 'emotional', 'state', 'characterized', 'feelings', 'joy', ',', 'satisfaction', ',', 'contentment', ',', 'fulfillment', '.', 'While', 'happiness', 'many', 'different', 'definitions', ',', 'often', 'described', 'involving', 'positive', 'emotions', 'life', 'satisfaction', '.', 'When', 'people', 'talk', 'true', 'meaning', 'happiness', ',', 'might', 'talking', 'feel', 'present', 'moment', 'referring', 'general', 'sense', 'feel', 'life', 'overall', '.', 'Because', 'happiness', 'tends', 'broadly', 'defined', 'term', ',', 'psychologists', 'social', 'scientists', 'typically', 'use', 'term', \"'subjective\", 'well-being', \"'\", 'talk', 'emotional', 'state', '.', 'Just', 'sounds', ',', 'subjective', 'well-being', 'tends', 'focus', 'individual', \"'s\", 'overall', 'personal', 'feelings', 'life', 'present', '.', 'Two', 'key', 'components', 'happiness', '(', 'subjective', 'well-being', ')', ':', 'The', 'balance', 'emotions', ':', 'Everyone', 'experiences', 'positive', 'negative', 'emotions', ',', 'feelings', ',', 'moods', '.', 'Happiness', 'generally', 'linked', 'experiencing', 'positive', 'feelings', 'negative', 'ones', '.', 'Life', 'satisfaction', ':', 'This', 'relates', 'satisfied', 'feel', 'different', 'areas', 'life', 'including', 'relationships', ',', 'work', ',', 'achievements', ',', 'things', 'consider', 'important', '.', 'Another', 'definition', 'happiness', 'comes', 'ancient', 'philosopher', 'Aristotle', ',', 'suggested', 'happiness', 'one', 'human', 'desire', ',', 'human', 'desires', 'exist', 'way', 'obtain', 'happiness', '.', 'He', 'believed', 'four', 'levels', 'happiness', ':', 'happiness', 'immediate', 'gratification', ',', 'comparison', 'achievement', ',', 'making', 'positive', 'contributions', ',', 'achieving', 'fulfillment', '.', 'Happiness', ',', 'Aristotle', 'suggested', ',', 'could', 'achieved', 'golden', 'mean', ',', 'involves', 'finding', 'balance', 'deficiency', 'excess.1', 'What', 'Is', 'Arrival', 'Fallacy', '?', 'Signs', 'Happiness.While', 'perceptions', 'happiness', 'may', 'different', 'one', 'person', 'next', ',', 'key', 'signs', 'psychologists', 'look', 'measuring', 'assessing', 'happiness', '.', 'Some', 'key', 'signs', 'happiness', 'include', ':', 'Feeling', 'like', 'living', 'life', 'wanted', '.', 'Going', 'flow', 'willingness', 'take', 'life', 'comes', '.', 'Feeling', 'conditions', 'life', 'good', '.', 'Enjoying', 'positive', ',', 'healthy', 'relationships', 'people', '.', 'Feeling', 'accomplished', '(', 'accomplish', ')', 'want', 'life', '.', 'Feeling', 'satisfied', 'life', '.', 'Feeling', 'positive', 'negative', '.', 'Being', 'open', 'new', 'ideas', 'experiences', 'Practicing', 'self-care', 'treating', 'kindness', 'compassion', 'Experiencing', 'gratitude', 'Feeling', 'living', 'life', 'sense', 'meaning', 'purpose', 'Wanting', 'share', 'happiness', 'joy', 'others', 'One', 'important', 'thing', 'remember', 'happiness', \"n't\", 'state', 'constant', 'euphoria', '.', 'Instead', ',', 'happiness', 'overall', 'sense', 'experiencing', 'positive', 'emotions', 'negative', 'ones.Happy', 'people', 'still', 'feel', 'whole', 'range', 'human', 'emotions—anger', ',', 'frustrastion', ',', 'boredom', ',', 'loneliness', ',', 'even', 'sadness—from', 'time', 'time', '.', 'But', 'even', 'faced', 'discomfort', ',', 'underlying', 'sense', 'optimism', 'things', 'get', 'better', ',', 'deal', 'happening', ',', 'able', 'feel', 'happy', '.']\n"
     ]
    }
   ],
   "source": [
    "filtered_sent=[]\n",
    "for w in tokenized_word:\n",
    "    if w not in stop_words:\n",
    "        filtered_sent.append(w)\n",
    "print(\"Tokenized Sentence:\",tokenized_word)\n",
    "print(\"Filterd Sentence:\",filtered_sent)\n"
   ]
  },
  {
   "cell_type": "code",
   "execution_count": 36,
   "id": "5fac5d28",
   "metadata": {},
   "outputs": [
    {
     "name": "stdout",
     "output_type": "stream",
     "text": [
      "563\n",
      "357\n"
     ]
    }
   ],
   "source": [
    "print(len(tokenized_word))\n",
    "print(len(filtered_sent))"
   ]
  },
  {
   "cell_type": "markdown",
   "id": "f62e6de5",
   "metadata": {},
   "source": [
    "###### Stemming es un proceso de normalización lingüística, que reduce las palabras a su palabra raíz o elimina los afijos derivativos."
   ]
  },
  {
   "cell_type": "code",
   "execution_count": 37,
   "id": "2bdd9b0d",
   "metadata": {},
   "outputs": [
    {
     "name": "stdout",
     "output_type": "stream",
     "text": [
      "Filtered Sentence: ['Happiness', 'something', 'people', 'seek', 'find', ',', 'yet', 'defines', 'happiness', 'vary', 'one', 'person', 'next', '.', 'Typically', ',', 'happiness', 'emotional', 'state', 'characterized', 'feelings', 'joy', ',', 'satisfaction', ',', 'contentment', ',', 'fulfillment', '.', 'While', 'happiness', 'many', 'different', 'definitions', ',', 'often', 'described', 'involving', 'positive', 'emotions', 'life', 'satisfaction', '.', 'When', 'people', 'talk', 'true', 'meaning', 'happiness', ',', 'might', 'talking', 'feel', 'present', 'moment', 'referring', 'general', 'sense', 'feel', 'life', 'overall', '.', 'Because', 'happiness', 'tends', 'broadly', 'defined', 'term', ',', 'psychologists', 'social', 'scientists', 'typically', 'use', 'term', \"'subjective\", 'well-being', \"'\", 'talk', 'emotional', 'state', '.', 'Just', 'sounds', ',', 'subjective', 'well-being', 'tends', 'focus', 'individual', \"'s\", 'overall', 'personal', 'feelings', 'life', 'present', '.', 'Two', 'key', 'components', 'happiness', '(', 'subjective', 'well-being', ')', ':', 'The', 'balance', 'emotions', ':', 'Everyone', 'experiences', 'positive', 'negative', 'emotions', ',', 'feelings', ',', 'moods', '.', 'Happiness', 'generally', 'linked', 'experiencing', 'positive', 'feelings', 'negative', 'ones', '.', 'Life', 'satisfaction', ':', 'This', 'relates', 'satisfied', 'feel', 'different', 'areas', 'life', 'including', 'relationships', ',', 'work', ',', 'achievements', ',', 'things', 'consider', 'important', '.', 'Another', 'definition', 'happiness', 'comes', 'ancient', 'philosopher', 'Aristotle', ',', 'suggested', 'happiness', 'one', 'human', 'desire', ',', 'human', 'desires', 'exist', 'way', 'obtain', 'happiness', '.', 'He', 'believed', 'four', 'levels', 'happiness', ':', 'happiness', 'immediate', 'gratification', ',', 'comparison', 'achievement', ',', 'making', 'positive', 'contributions', ',', 'achieving', 'fulfillment', '.', 'Happiness', ',', 'Aristotle', 'suggested', ',', 'could', 'achieved', 'golden', 'mean', ',', 'involves', 'finding', 'balance', 'deficiency', 'excess.1', 'What', 'Is', 'Arrival', 'Fallacy', '?', 'Signs', 'Happiness.While', 'perceptions', 'happiness', 'may', 'different', 'one', 'person', 'next', ',', 'key', 'signs', 'psychologists', 'look', 'measuring', 'assessing', 'happiness', '.', 'Some', 'key', 'signs', 'happiness', 'include', ':', 'Feeling', 'like', 'living', 'life', 'wanted', '.', 'Going', 'flow', 'willingness', 'take', 'life', 'comes', '.', 'Feeling', 'conditions', 'life', 'good', '.', 'Enjoying', 'positive', ',', 'healthy', 'relationships', 'people', '.', 'Feeling', 'accomplished', '(', 'accomplish', ')', 'want', 'life', '.', 'Feeling', 'satisfied', 'life', '.', 'Feeling', 'positive', 'negative', '.', 'Being', 'open', 'new', 'ideas', 'experiences', 'Practicing', 'self-care', 'treating', 'kindness', 'compassion', 'Experiencing', 'gratitude', 'Feeling', 'living', 'life', 'sense', 'meaning', 'purpose', 'Wanting', 'share', 'happiness', 'joy', 'others', 'One', 'important', 'thing', 'remember', 'happiness', \"n't\", 'state', 'constant', 'euphoria', '.', 'Instead', ',', 'happiness', 'overall', 'sense', 'experiencing', 'positive', 'emotions', 'negative', 'ones.Happy', 'people', 'still', 'feel', 'whole', 'range', 'human', 'emotions—anger', ',', 'frustrastion', ',', 'boredom', ',', 'loneliness', ',', 'even', 'sadness—from', 'time', 'time', '.', 'But', 'even', 'faced', 'discomfort', ',', 'underlying', 'sense', 'optimism', 'things', 'get', 'better', ',', 'deal', 'happening', ',', 'able', 'feel', 'happy', '.']\n",
      "Stemmed Sentence: ['happi', 'someth', 'peopl', 'seek', 'find', ',', 'yet', 'defin', 'happi', 'vari', 'one', 'person', 'next', '.', 'typic', ',', 'happi', 'emot', 'state', 'character', 'feel', 'joy', ',', 'satisfact', ',', 'content', ',', 'fulfil', '.', 'while', 'happi', 'mani', 'differ', 'definit', ',', 'often', 'describ', 'involv', 'posit', 'emot', 'life', 'satisfact', '.', 'when', 'peopl', 'talk', 'true', 'mean', 'happi', ',', 'might', 'talk', 'feel', 'present', 'moment', 'refer', 'gener', 'sens', 'feel', 'life', 'overal', '.', 'becaus', 'happi', 'tend', 'broadli', 'defin', 'term', ',', 'psychologist', 'social', 'scientist', 'typic', 'use', 'term', \"'subject\", 'well-b', \"'\", 'talk', 'emot', 'state', '.', 'just', 'sound', ',', 'subject', 'well-b', 'tend', 'focu', 'individu', \"'s\", 'overal', 'person', 'feel', 'life', 'present', '.', 'two', 'key', 'compon', 'happi', '(', 'subject', 'well-b', ')', ':', 'the', 'balanc', 'emot', ':', 'everyon', 'experi', 'posit', 'neg', 'emot', ',', 'feel', ',', 'mood', '.', 'happi', 'gener', 'link', 'experienc', 'posit', 'feel', 'neg', 'one', '.', 'life', 'satisfact', ':', 'thi', 'relat', 'satisfi', 'feel', 'differ', 'area', 'life', 'includ', 'relationship', ',', 'work', ',', 'achiev', ',', 'thing', 'consid', 'import', '.', 'anoth', 'definit', 'happi', 'come', 'ancient', 'philosoph', 'aristotl', ',', 'suggest', 'happi', 'one', 'human', 'desir', ',', 'human', 'desir', 'exist', 'way', 'obtain', 'happi', '.', 'he', 'believ', 'four', 'level', 'happi', ':', 'happi', 'immedi', 'gratif', ',', 'comparison', 'achiev', ',', 'make', 'posit', 'contribut', ',', 'achiev', 'fulfil', '.', 'happi', ',', 'aristotl', 'suggest', ',', 'could', 'achiev', 'golden', 'mean', ',', 'involv', 'find', 'balanc', 'defici', 'excess.1', 'what', 'is', 'arriv', 'fallaci', '?', 'sign', 'happiness.whil', 'percept', 'happi', 'may', 'differ', 'one', 'person', 'next', ',', 'key', 'sign', 'psychologist', 'look', 'measur', 'assess', 'happi', '.', 'some', 'key', 'sign', 'happi', 'includ', ':', 'feel', 'like', 'live', 'life', 'want', '.', 'go', 'flow', 'willing', 'take', 'life', 'come', '.', 'feel', 'condit', 'life', 'good', '.', 'enjoy', 'posit', ',', 'healthi', 'relationship', 'peopl', '.', 'feel', 'accomplish', '(', 'accomplish', ')', 'want', 'life', '.', 'feel', 'satisfi', 'life', '.', 'feel', 'posit', 'neg', '.', 'be', 'open', 'new', 'idea', 'experi', 'practic', 'self-car', 'treat', 'kind', 'compass', 'experienc', 'gratitud', 'feel', 'live', 'life', 'sens', 'mean', 'purpos', 'want', 'share', 'happi', 'joy', 'other', 'one', 'import', 'thing', 'rememb', 'happi', \"n't\", 'state', 'constant', 'euphoria', '.', 'instead', ',', 'happi', 'overal', 'sens', 'experienc', 'posit', 'emot', 'neg', 'ones.happi', 'peopl', 'still', 'feel', 'whole', 'rang', 'human', 'emotions—ang', ',', 'frustrast', ',', 'boredom', ',', 'loneli', ',', 'even', 'sadness—from', 'time', 'time', '.', 'but', 'even', 'face', 'discomfort', ',', 'underli', 'sens', 'optim', 'thing', 'get', 'better', ',', 'deal', 'happen', ',', 'abl', 'feel', 'happi', '.']\n"
     ]
    }
   ],
   "source": [
    "# Stemming\n",
    "from nltk.stem import PorterStemmer\n",
    "from nltk.tokenize import sent_tokenize, word_tokenize\n",
    "\n",
    "ps = PorterStemmer()\n",
    "\n",
    "stemmed_words=[]\n",
    "for w in filtered_sent:\n",
    "    stemmed_words.append(ps.stem(w))\n",
    "\n",
    "print(\"Filtered Sentence:\",filtered_sent)\n",
    "print(\"Stemmed Sentence:\",stemmed_words)\n"
   ]
  },
  {
   "cell_type": "markdown",
   "id": "f7141d83",
   "metadata": {},
   "source": [
    "###### La lematización reduce las palabras a su palabra base, que es lemas lingüísticamente correctos. Transforma raíces de palabras con el uso de vocabulario y análisis morfológico."
   ]
  },
  {
   "cell_type": "code",
   "execution_count": 39,
   "id": "09400088",
   "metadata": {},
   "outputs": [
    {
     "name": "stderr",
     "output_type": "stream",
     "text": [
      "[nltk_data] Downloading package wordnet to /Users/natalia/nltk_data...\n"
     ]
    },
    {
     "data": {
      "text/plain": [
       "True"
      ]
     },
     "execution_count": 39,
     "metadata": {},
     "output_type": "execute_result"
    }
   ],
   "source": [
    "nltk.download('wordnet')"
   ]
  },
  {
   "cell_type": "code",
   "execution_count": 45,
   "id": "83346a14",
   "metadata": {},
   "outputs": [
    {
     "name": "stderr",
     "output_type": "stream",
     "text": [
      "[nltk_data] Downloading package omw-1.4 to /Users/natalia/nltk_data...\n"
     ]
    },
    {
     "data": {
      "text/plain": [
       "True"
      ]
     },
     "execution_count": 45,
     "metadata": {},
     "output_type": "execute_result"
    }
   ],
   "source": [
    "import nltk\n",
    "nltk.download('omw-1.4')"
   ]
  },
  {
   "cell_type": "code",
   "execution_count": 46,
   "id": "91ec2acc",
   "metadata": {},
   "outputs": [
    {
     "name": "stderr",
     "output_type": "stream",
     "text": [
      "[nltk_data] Downloading package punkt to /Users/natalia/nltk_data...\n",
      "[nltk_data]   Package punkt is already up-to-date!\n"
     ]
    },
    {
     "name": "stdout",
     "output_type": "stream",
     "text": [
      "Happiness is something that people seek to find , yet what defines happiness can vary from one person to the next . Typically , happiness is an emotional state characterized by feeling of joy , satisfaction , contentment , and fulfillment . While happiness ha many different definition , it is often described a involving positive emotion and life satisfaction . When most people talk about the true meaning of happiness , they might be talking about how they feel in the present moment or referring to a more general sense of how they feel about life overall . Because happiness tends to be such a broadly defined term , psychologist and other social scientist typically use the term 'subjective well-being ' when they talk about this emotional state . Just a it sound , subjective well-being tends to focus on an individual 's overall personal feeling about their life in the present . Two key component of happiness ( or subjective well-being ) are : The balance of emotion : Everyone experience both positive and negative emotion , feeling , and mood . Happiness is generally linked to experiencing more positive feeling than negative one . Life satisfaction : This relates to how satisfied you feel with different area of your life including your relationship , work , achievement , and other thing that you consider important . Another definition of happiness come from the ancient philosopher Aristotle , who suggested that happiness is the one human desire , and all other human desire exist a a way to obtain happiness . He believed that there were four level of happiness : happiness from immediate gratification , from comparison and achievement , from making positive contribution , and from achieving fulfillment . Happiness , Aristotle suggested , could be achieved through the golden mean , which involves finding a balance between deficiency and excess.1 What Is Arrival Fallacy ? Signs of Happiness.While perception of happiness may be different from one person to the next , there are some key sign that psychologist look for when measuring and assessing happiness . Some key sign of happiness include : Feeling like you are living the life you wanted . Going with the flow and a willingness to take life a it come . Feeling that the condition of your life are good . Enjoying positive , healthy relationship with other people . Feeling that you have accomplished ( or will accomplish ) what you want in life . Feeling satisfied with your life . Feeling positive more than negative . Being open to new idea and experience Practicing self-care and treating yourself with kindness and compassion Experiencing gratitude Feeling that you are living life with a sense of meaning and purpose Wanting to share your happiness and joy with others One important thing to remember is that happiness is n't a state of constant euphoria . Instead , happiness is an overall sense of experiencing more positive emotion than negative ones.Happy people still feel the whole range of human emotions—anger , frustrastion , boredom , loneliness , and even sadness—from time to time . But even when faced with discomfort , they have an underlying sense of optimism that thing will get better , that they can deal with what is happening , and that they will be able to feel happy again .\n"
     ]
    }
   ],
   "source": [
    "from nltk.stem import WordNetLemmatizer\n",
    "\n",
    "# Descargar los recursos necesarios de NLTK\n",
    "nltk.download('punkt')\n",
    "\n",
    "\n",
    "# Inicializar el lematizador de WordNet\n",
    "lemmatizer = WordNetLemmatizer()\n",
    "\n",
    "\n",
    "# Tokenizar el texto en palabras\n",
    "palabras = nltk.word_tokenize(text)\n",
    "\n",
    "# Lematizar cada palabra\n",
    "lemas = [lemmatizer.lemmatize(palabra) for palabra in palabras]\n",
    "\n",
    "# Unir los lemas en un nuevo texto\n",
    "texto_lematizado = ' '.join(lemas)\n",
    "\n",
    "print(texto_lematizado)\n"
   ]
  },
  {
   "cell_type": "code",
   "execution_count": 47,
   "id": "9b9fa4da",
   "metadata": {},
   "outputs": [
    {
     "name": "stdout",
     "output_type": "stream",
     "text": [
      "3257\n",
      "3283\n"
     ]
    }
   ],
   "source": [
    "print (len(text))\n",
    "print (len(texto_lematizado))"
   ]
  },
  {
   "cell_type": "markdown",
   "id": "89b05648",
   "metadata": {},
   "source": [
    "### - Exercici 3\n",
    "Realitza sentiment analysis al teu conjunt de dades."
   ]
  },
  {
   "cell_type": "markdown",
   "id": "f8f96265",
   "metadata": {},
   "source": [
    "###### La cuantificación del contenido, la idea, la creencia y la opinión de los usuarios se conoce como análisis de sentimiento."
   ]
  },
  {
   "cell_type": "code",
   "execution_count": 48,
   "id": "ccfc8c92",
   "metadata": {},
   "outputs": [
    {
     "name": "stdout",
     "output_type": "stream",
     "text": [
      "{'neg': 0.029, 'neu': 0.738, 'pos': 0.233, 'compound': 0.9979}\n"
     ]
    },
    {
     "name": "stderr",
     "output_type": "stream",
     "text": [
      "[nltk_data] Downloading package vader_lexicon to\n",
      "[nltk_data]     /Users/natalia/nltk_data...\n"
     ]
    }
   ],
   "source": [
    "import nltk\n",
    "from nltk.sentiment.vader import SentimentIntensityAnalyzer\n",
    "\n",
    "# Descargar los recursos necesarios de NLTK\n",
    "nltk.download('vader_lexicon')\n",
    "\n",
    "# Inicializar el analizador de sentimiento \n",
    "analyzer = SentimentIntensityAnalyzer()\n",
    "\n",
    "\n",
    "# Obtener el puntaje de sentimiento\n",
    "scores = analyzer.polarity_scores(text)\n",
    "\n",
    "# Imprimir el puntaje de sentimiento\n",
    "print(scores)\n"
   ]
  },
  {
   "cell_type": "markdown",
   "id": "3f88286f",
   "metadata": {},
   "source": [
    "Utilizamos el método polarity_scores del analizador de sentimiento para obtener el puntaje de sentimiento del texto. Este método devuelve un diccionario con cuatro valores: neg, neu, pos y compound. neg, neu y pos representan la proporción de palabras negativas, neutrales y positivas en el texto, respectivamente, y compound es un puntaje de sentimiento compuesto que varía entre -1 (muy negativo) y 1 (muy positivo).Lo que indica que el texto es mayoritariamente positivo (con un puntaje compuesto de 0.9979)."
   ]
  },
  {
   "cell_type": "code",
   "execution_count": null,
   "id": "3ecba017",
   "metadata": {},
   "outputs": [],
   "source": []
  }
 ],
 "metadata": {
  "kernelspec": {
   "display_name": "Python 3 (ipykernel)",
   "language": "python",
   "name": "python3"
  },
  "language_info": {
   "codemirror_mode": {
    "name": "ipython",
    "version": 3
   },
   "file_extension": ".py",
   "mimetype": "text/x-python",
   "name": "python",
   "nbconvert_exporter": "python",
   "pygments_lexer": "ipython3",
   "version": "3.9.12"
  }
 },
 "nbformat": 4,
 "nbformat_minor": 5
}
